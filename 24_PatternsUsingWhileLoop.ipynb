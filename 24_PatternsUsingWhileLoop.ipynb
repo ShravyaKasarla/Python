{
 "cells": [
  {
   "cell_type": "markdown",
   "id": "bbb4683c",
   "metadata": {},
   "source": [
    "## 24-Patterns using While loop"
   ]
  },
  {
   "cell_type": "raw",
   "id": "70cd836c",
   "metadata": {},
   "source": [
    "1.  * * * * * \n",
    "    * * * * * \n",
    "    * * * * * \n",
    "    * * * * * \n",
    "    * * * * * "
   ]
  },
  {
   "cell_type": "code",
   "execution_count": 41,
   "id": "f9ee78b5",
   "metadata": {},
   "outputs": [
    {
     "name": "stdout",
     "output_type": "stream",
     "text": [
      "Enter Number of lines: 5\n",
      "Enter character: *\n",
      "* * * * * \n",
      "* * * * * \n",
      "* * * * * \n",
      "* * * * * \n",
      "* * * * * \n"
     ]
    }
   ],
   "source": [
    "def pat_1():\n",
    "    n = int(input(\"Enter Number of lines: \"))\n",
    "    char = input('Enter character: ')\n",
    "    i = 0\n",
    "    while i < n:\n",
    "        print((char+' ')*n)\n",
    "        i += 1\n",
    "\n",
    "pat_1()"
   ]
  },
  {
   "cell_type": "markdown",
   "id": "2b80e7bb",
   "metadata": {},
   "source": [
    "     "
   ]
  },
  {
   "cell_type": "raw",
   "id": "dd0e9b94",
   "metadata": {},
   "source": [
    "2.  5 5 5 5 5 \n",
    "    4 4 4 4 4 \n",
    "    3 3 3 3 3 \n",
    "    2 2 2 2 2 \n",
    "    1 1 1 1 1 "
   ]
  },
  {
   "cell_type": "code",
   "execution_count": 40,
   "id": "ace84e3c",
   "metadata": {},
   "outputs": [
    {
     "name": "stdout",
     "output_type": "stream",
     "text": [
      "Enter Number of lines: 5\n",
      "5 5 5 5 5 \n",
      "4 4 4 4 4 \n",
      "3 3 3 3 3 \n",
      "2 2 2 2 2 \n",
      "1 1 1 1 1 \n"
     ]
    }
   ],
   "source": [
    "def pat_2():\n",
    "    n = int(input(\"Enter Number of lines: \"))    \n",
    "    i = n\n",
    "    while i>0:\n",
    "        print((str(i)+' ')*n)\n",
    "        i -= 1\n",
    "\n",
    "pat_2()"
   ]
  },
  {
   "cell_type": "markdown",
   "id": "6d286ad8",
   "metadata": {},
   "source": [
    "  "
   ]
  },
  {
   "cell_type": "raw",
   "id": "d4d93b54",
   "metadata": {},
   "source": [
    "3.  A A A A A \n",
    "    B B B B B \n",
    "    C C C C C \n",
    "    D D D D D \n",
    "    E E E E E "
   ]
  },
  {
   "cell_type": "code",
   "execution_count": 43,
   "id": "c7233b3a",
   "metadata": {},
   "outputs": [
    {
     "name": "stdout",
     "output_type": "stream",
     "text": [
      "Enter Number of lines: 5\n",
      "A A A A A \n",
      "B B B B B \n",
      "C C C C C \n",
      "D D D D D \n",
      "E E E E E \n"
     ]
    }
   ],
   "source": [
    "def pat_3():\n",
    "    n = int(input(\"Enter Number of lines: \"))\n",
    "    a = ord('A')\n",
    "    i = 0\n",
    "    while i < n :\n",
    "        print((chr(a)+' ')*n)\n",
    "        i += 1\n",
    "        a += 1\n",
    "\n",
    "pat_3()"
   ]
  },
  {
   "cell_type": "code",
   "execution_count": null,
   "id": "97256f1a",
   "metadata": {},
   "outputs": [],
   "source": []
  },
  {
   "cell_type": "raw",
   "id": "74d92ab3",
   "metadata": {},
   "source": [
    "4.  1 \n",
    "    2 2 \n",
    "    3 3 3 \n",
    "    4 4 4 4 \n",
    "    5 5 5 5 5 "
   ]
  },
  {
   "cell_type": "code",
   "execution_count": 1,
   "id": "42c2d017",
   "metadata": {
    "scrolled": true
   },
   "outputs": [
    {
     "name": "stdout",
     "output_type": "stream",
     "text": [
      "Enter Number of lines: 5\n",
      "1 \n",
      "2 2 \n",
      "3 3 3 \n",
      "4 4 4 4 \n",
      "5 5 5 5 5 \n"
     ]
    }
   ],
   "source": [
    "def pat_4():\n",
    "    n = int(input(\"Enter Number of lines: \"))\n",
    "    i = 1\n",
    "    while i <= n:\n",
    "        print((str(i)+' ')*i)\n",
    "        i += 1   \n",
    "\n",
    "pat_4()"
   ]
  },
  {
   "cell_type": "markdown",
   "id": "f95fbbda",
   "metadata": {},
   "source": [
    "   \n",
    "   "
   ]
  },
  {
   "cell_type": "raw",
   "id": "9ec7961a",
   "metadata": {},
   "source": [
    "5.  A \n",
    "    B B \n",
    "    C C C \n",
    "    D D D D \n",
    "    E E E E E "
   ]
  },
  {
   "cell_type": "code",
   "execution_count": 4,
   "id": "a13e9036",
   "metadata": {},
   "outputs": [
    {
     "name": "stdout",
     "output_type": "stream",
     "text": [
      "Enter Number of lines: 5\n",
      "A \n",
      "B B \n",
      "C C C \n",
      "D D D D \n",
      "E E E E E \n"
     ]
    }
   ],
   "source": [
    "def pat_5():\n",
    "    n = int(input('Enter Number of lines: '))\n",
    "    a = ord('A')\n",
    "    i = 1\n",
    "    while i <= n:\n",
    "        print((chr(a)+' ')*i)\n",
    "        i += 1\n",
    "        a += 1\n",
    "        \n",
    "        \n",
    "pat_5()"
   ]
  },
  {
   "cell_type": "markdown",
   "id": "4e46114c",
   "metadata": {},
   "source": [
    "  "
   ]
  },
  {
   "cell_type": "raw",
   "id": "fcb1cf01",
   "metadata": {},
   "source": [
    "6.  * \n",
    "    * * \n",
    "    * * * \n",
    "    * * * * \n",
    "    * * * * * "
   ]
  },
  {
   "cell_type": "code",
   "execution_count": 5,
   "id": "4777d0ae",
   "metadata": {},
   "outputs": [
    {
     "name": "stdout",
     "output_type": "stream",
     "text": [
      "Enter Number of lines: 5\n",
      "Enter character: *\n",
      "* \n",
      "* * \n",
      "* * * \n",
      "* * * * \n",
      "* * * * * \n"
     ]
    }
   ],
   "source": [
    "def pat_6():\n",
    "    n = int(input('Enter Number of lines: '))\n",
    "    char = input('Enter character: ')    \n",
    "    i = 1\n",
    "    while i <= n:\n",
    "        print((char+' ')*i)\n",
    "        i += 1\n",
    "\n",
    "pat_6()"
   ]
  },
  {
   "cell_type": "markdown",
   "id": "4e48b831",
   "metadata": {},
   "source": [
    "  "
   ]
  },
  {
   "cell_type": "raw",
   "id": "95639518",
   "metadata": {},
   "source": [
    "7.  * * * * * \n",
    "    * * * * \n",
    "    * * * \n",
    "    * * \n",
    "    * "
   ]
  },
  {
   "cell_type": "code",
   "execution_count": 8,
   "id": "4bd44ea0",
   "metadata": {},
   "outputs": [
    {
     "name": "stdout",
     "output_type": "stream",
     "text": [
      "Enter Number of lines: 5\n",
      "Enter character: *\n",
      "* * * * * \n",
      "* * * * \n",
      "* * * \n",
      "* * \n",
      "* \n"
     ]
    }
   ],
   "source": [
    "def pat_7():\n",
    "    n = int(input('Enter Number of lines: '))\n",
    "    char = input('Enter character: ')    \n",
    "    i = n\n",
    "    while i > 0:\n",
    "        print((char+' ')*i)\n",
    "        i -= 1\n",
    "\n",
    "pat_7()"
   ]
  },
  {
   "cell_type": "markdown",
   "id": "b9a3a51f",
   "metadata": {},
   "source": [
    "  "
   ]
  },
  {
   "cell_type": "raw",
   "id": "baaf0718",
   "metadata": {},
   "source": [
    "8.  1 1 1 1 \n",
    "    2 2 2 \n",
    "    3 3 \n",
    "    4"
   ]
  },
  {
   "cell_type": "code",
   "execution_count": 13,
   "id": "b2b85f7f",
   "metadata": {},
   "outputs": [
    {
     "name": "stdout",
     "output_type": "stream",
     "text": [
      "Enter Number of lines: 4\n",
      "1 1 1 1 \n",
      "2 2 2 \n",
      "3 3 \n",
      "4 \n"
     ]
    }
   ],
   "source": [
    "def pat_8():\n",
    "    n = int(input('Enter Number of lines: '))    \n",
    "    i = 1\n",
    "    temp = n\n",
    "    while i <= temp:\n",
    "        print((str(i)+' ')*n)\n",
    "        i += 1\n",
    "        n -= 1\n",
    "\n",
    "pat_8()"
   ]
  },
  {
   "cell_type": "markdown",
   "id": "b20dff1f",
   "metadata": {},
   "source": [
    "  "
   ]
  },
  {
   "cell_type": "raw",
   "id": "cea63dfc",
   "metadata": {},
   "source": [
    "9.  E 5 4 3 2 1 \n",
    "    E 5 4 3 2 \n",
    "    E 5 4 3 \n",
    "    E 5 4 \n",
    "    E 5  "
   ]
  },
  {
   "cell_type": "code",
   "execution_count": 34,
   "id": "d627604d",
   "metadata": {},
   "outputs": [
    {
     "name": "stdout",
     "output_type": "stream",
     "text": [
      "Enter Number of lines: 5\n",
      "E 5 4 3 2 1 \n",
      "E 5 4 3 2 \n",
      "E 5 4 3 \n",
      "E 5 4 \n",
      "E 5 \n"
     ]
    }
   ],
   "source": [
    "def pat_9():\n",
    "    n = int(input('Enter Number of lines: '))   \n",
    "    i = 1\n",
    "    a = ord('A')+ (n-1)\n",
    "    while i<=n:\n",
    "        j=n\n",
    "        print(chr(a),end=' ')\n",
    "        while j>=i:\n",
    "            print(j,end=' ')\n",
    "            j=j-1\n",
    "        print()\n",
    "        i+=1\n",
    "    \n",
    "    \n",
    "pat_9()"
   ]
  },
  {
   "cell_type": "markdown",
   "id": "ef4acdbe",
   "metadata": {},
   "source": [
    "  "
   ]
  },
  {
   "cell_type": "raw",
   "id": "61a39544",
   "metadata": {},
   "source": [
    "10. E D C B A \n",
    "    E D C B \n",
    "    E D C \n",
    "    E D \n",
    "    E  "
   ]
  },
  {
   "cell_type": "code",
   "execution_count": 33,
   "id": "a93beb31",
   "metadata": {},
   "outputs": [
    {
     "name": "stdout",
     "output_type": "stream",
     "text": [
      "Enter Number of lines: 5\n",
      "E D C B A \n",
      "E D C B \n",
      "E D C \n",
      "E D \n",
      "E \n"
     ]
    }
   ],
   "source": [
    "def pat_10():\n",
    "    n = int(input('Enter Number of lines: '))    \n",
    "    i = n\n",
    "    l = n-1\n",
    "    while i > 0:\n",
    "        a = ord('A')+l\n",
    "        j = n\n",
    "\n",
    "        while j > 0:\n",
    "            print(chr(a), end =' ')\n",
    "            j -= 1\n",
    "            a -= 1\n",
    "        print()\n",
    "        i -= 1\n",
    "        n -= 1\n",
    "\n",
    "\n",
    "pat_10()"
   ]
  },
  {
   "cell_type": "markdown",
   "id": "da75f9c3",
   "metadata": {},
   "source": [
    "  "
   ]
  },
  {
   "cell_type": "raw",
   "id": "430fcede",
   "metadata": {},
   "source": [
    "11.         * \n",
    "          * * \n",
    "        * * * \n",
    "      * * * * \n",
    "    * * * * *"
   ]
  },
  {
   "cell_type": "code",
   "execution_count": 20,
   "id": "9b4ff2e8",
   "metadata": {},
   "outputs": [
    {
     "name": "stdout",
     "output_type": "stream",
     "text": [
      "Enter Number of lines: 5\n",
      "Enter character: *\n",
      "        * \n",
      "      * * \n",
      "    * * * \n",
      "  * * * * \n",
      "* * * * * \n"
     ]
    }
   ],
   "source": [
    "def pat_11():\n",
    "    n = int(input('Enter Number of lines: '))\n",
    "    char = input('Enter character: ')    \n",
    "    i = 1\n",
    "    space = (n - 1)\n",
    "    while i <= n:\n",
    "        print((2*space*' ')+(char+' ')*i)\n",
    "        i += 1\n",
    "        space -= 1\n",
    "\n",
    "pat_11()"
   ]
  },
  {
   "cell_type": "markdown",
   "id": "ceca7d8b",
   "metadata": {},
   "source": [
    "  "
   ]
  },
  {
   "cell_type": "raw",
   "id": "a7d8b823",
   "metadata": {},
   "source": [
    "12.         1 \n",
    "          2 2 \n",
    "        3 3 3 \n",
    "      4 4 4 4 \n",
    "    5 5 5 5 5 "
   ]
  },
  {
   "cell_type": "code",
   "execution_count": 22,
   "id": "077898cf",
   "metadata": {},
   "outputs": [
    {
     "name": "stdout",
     "output_type": "stream",
     "text": [
      "Enter Number of lines: 5\n",
      "        1 \n",
      "      2 2 \n",
      "    3 3 3 \n",
      "  4 4 4 4 \n",
      "5 5 5 5 5 \n"
     ]
    }
   ],
   "source": [
    "def pat_12():\n",
    "    n = int(input('Enter Number of lines: '))   \n",
    "    i = 1\n",
    "    space = (n - 1)\n",
    "    while i <= n:\n",
    "        print((2*space*' ')+(str(i)+' ')*i)\n",
    "        i += 1\n",
    "        space -= 1\n",
    "\n",
    "pat_12()"
   ]
  },
  {
   "cell_type": "markdown",
   "id": "cc3d46f3",
   "metadata": {},
   "source": [
    "   "
   ]
  },
  {
   "cell_type": "raw",
   "id": "d9101cc1",
   "metadata": {},
   "source": [
    "13.          A \n",
    "           A B \n",
    "         A B C \n",
    "       A B C D \n",
    "     A B C D E "
   ]
  },
  {
   "cell_type": "code",
   "execution_count": 33,
   "id": "bfbf025e",
   "metadata": {},
   "outputs": [
    {
     "name": "stdout",
     "output_type": "stream",
     "text": [
      "Enter Number of lines: 5\n",
      "         A \n",
      "       A B \n",
      "     A B C \n",
      "   A B C D \n",
      " A B C D E \n"
     ]
    }
   ],
   "source": [
    "def pat_13():\n",
    "    n = int(input('Enter Number of lines: '))   \n",
    "    i = 1\n",
    "    space = (n - 1)\n",
    "    \n",
    "    while i <= n:\n",
    "        print(2*space*' ', end=' ')\n",
    "        a = ord('A')\n",
    "        j = 1\n",
    "        while j <= i :  \n",
    "            print(chr(a),end=' ')\n",
    "            j += 1\n",
    "            a += 1\n",
    "        print()\n",
    "        i += 1\n",
    "        space -= 1\n",
    "\n",
    "pat_13()"
   ]
  },
  {
   "cell_type": "markdown",
   "id": "47ab689f",
   "metadata": {},
   "source": [
    "  "
   ]
  },
  {
   "cell_type": "raw",
   "id": "27559f81",
   "metadata": {},
   "source": [
    "14. 1 2 3 4 5 \n",
    "      1 2 3 4 \n",
    "        1 2 3 \n",
    "          1 2 \n",
    "            1 "
   ]
  },
  {
   "cell_type": "code",
   "execution_count": 9,
   "id": "f562543c",
   "metadata": {},
   "outputs": [
    {
     "name": "stdout",
     "output_type": "stream",
     "text": [
      "Enter Number of lines: 5\n",
      "1 2 3 4 5 \n",
      "  1 2 3 4 \n",
      "    1 2 3 \n",
      "      1 2 \n",
      "        1 \n"
     ]
    }
   ],
   "source": [
    "def pat_14():\n",
    "    n = int(input('Enter Number of lines: '))   \n",
    "    i = n\n",
    "    space = 0\n",
    "    while i > 0:\n",
    "        print(2*space*' ',end='')\n",
    "        j=1\n",
    "        while j <= i:\n",
    "            print(j,end=' ')\n",
    "            j += 1\n",
    "        print()\n",
    "        i -= 1\n",
    "        space += 1\n",
    "\n",
    "pat_14()"
   ]
  },
  {
   "cell_type": "markdown",
   "id": "331d228d",
   "metadata": {},
   "source": [
    " "
   ]
  },
  {
   "cell_type": "raw",
   "id": "1b8ad81e",
   "metadata": {},
   "source": [
    "15. * * * * * \n",
    "      * * * * \n",
    "        * * * \n",
    "          * * \n",
    "            *"
   ]
  },
  {
   "cell_type": "code",
   "execution_count": 13,
   "id": "b9549c5b",
   "metadata": {},
   "outputs": [
    {
     "name": "stdout",
     "output_type": "stream",
     "text": [
      "Enter Number of lines: 5\n",
      "Enter character: *\n",
      "* * * * * \n",
      "  * * * * \n",
      "    * * * \n",
      "      * * \n",
      "        * \n"
     ]
    }
   ],
   "source": [
    "def pat_15():\n",
    "    n = int(input('Enter Number of lines: '))\n",
    "    char = input('Enter character: ')    \n",
    "    i = n\n",
    "    space = 0\n",
    "    while i > 0:\n",
    "        print(2*space*' '+(char+' ')*i)\n",
    "        i -= 1\n",
    "        space += 1\n",
    "\n",
    "pat_15()"
   ]
  },
  {
   "cell_type": "markdown",
   "id": "020b6f8d",
   "metadata": {},
   "source": [
    "   "
   ]
  },
  {
   "cell_type": "raw",
   "id": "8de7977c",
   "metadata": {},
   "source": [
    "16. E E E E E \n",
    "      D D D D \n",
    "        C C C \n",
    "          B B \n",
    "            A "
   ]
  },
  {
   "cell_type": "code",
   "execution_count": 32,
   "id": "f8ebe982",
   "metadata": {},
   "outputs": [
    {
     "name": "stdout",
     "output_type": "stream",
     "text": [
      "Enter Number of lines: 5\n",
      "E E E E E \n",
      "  D D D D \n",
      "    C C C \n",
      "      B B \n",
      "        A \n"
     ]
    }
   ],
   "source": [
    "def pat_16():\n",
    "    n = int(input('Enter Number of lines: '))\n",
    "    a = ord('A')+ (n-1)\n",
    "    i = n\n",
    "    space = 0\n",
    "    while i > 0:\n",
    "        print(2*space*' '+(chr(a)+' ')*i)\n",
    "        i -= 1\n",
    "        a -= 1\n",
    "        space += 1\n",
    "        \n",
    "        \n",
    "pat_16()"
   ]
  },
  {
   "cell_type": "markdown",
   "id": "8770c531",
   "metadata": {},
   "source": [
    " "
   ]
  },
  {
   "cell_type": "raw",
   "id": "dd53c1dc",
   "metadata": {},
   "source": [
    "17. "
   ]
  },
  {
   "cell_type": "code",
   "execution_count": 19,
   "id": "66142aff",
   "metadata": {},
   "outputs": [
    {
     "name": "stdout",
     "output_type": "stream",
     "text": [
      "Enter Number of lines: 5\n",
      "A B C D E \n",
      "  A B C D \n",
      "    A B C \n",
      "      A B \n",
      "        A \n"
     ]
    }
   ],
   "source": [
    "def pat_17():\n",
    "    n = int(input('Enter Number of lines: '))   \n",
    "    i = n\n",
    "    space = 0\n",
    "    \n",
    "    while i > 0:\n",
    "        print(2*space*' ', end='')\n",
    "        a = ord('A')\n",
    "        j = 1\n",
    "        while j <= i :  \n",
    "            print(chr(a),end=' ')\n",
    "            j += 1\n",
    "            a += 1\n",
    "        print()\n",
    "        i -= 1\n",
    "        space += 1\n",
    "\n",
    "pat_17()"
   ]
  },
  {
   "cell_type": "markdown",
   "id": "1a4795ba",
   "metadata": {},
   "source": [
    "  "
   ]
  },
  {
   "cell_type": "raw",
   "id": "4a45a546",
   "metadata": {},
   "source": [
    "18.     * \n",
    "       * * \n",
    "      * * * \n",
    "     * * * * \n",
    "    * * * * *"
   ]
  },
  {
   "cell_type": "code",
   "execution_count": 21,
   "id": "f4225288",
   "metadata": {},
   "outputs": [
    {
     "name": "stdout",
     "output_type": "stream",
     "text": [
      "Enter Number of lines: 5\n",
      "Enter character: *\n",
      "    * \n",
      "   * * \n",
      "  * * * \n",
      " * * * * \n",
      "* * * * * \n"
     ]
    }
   ],
   "source": [
    "def pat_18():\n",
    "    n = int(input('Enter Number of lines: '))\n",
    "    char = input('Enter character: ')    \n",
    "    i = 1\n",
    "    space = n-1\n",
    "    while i <= n:\n",
    "        print(space*' '+(char+' ')*i)\n",
    "        i += 1\n",
    "        space -= 1\n",
    "\n",
    "pat_18()"
   ]
  },
  {
   "cell_type": "markdown",
   "id": "95bd4d35",
   "metadata": {},
   "source": [
    "  "
   ]
  },
  {
   "cell_type": "raw",
   "id": "ed14da3f",
   "metadata": {},
   "source": [
    "19.         1 \n",
    "          2 2 2 \n",
    "        3 3 3 3 3 \n",
    "      4 4 4 4 4 4 4 \n",
    "    5 5 5 5 5 5 5 5 5 "
   ]
  },
  {
   "cell_type": "code",
   "execution_count": 24,
   "id": "ae0dee09",
   "metadata": {},
   "outputs": [
    {
     "name": "stdout",
     "output_type": "stream",
     "text": [
      "Enter Number of lines: 5\n",
      "        1 \n",
      "      2 2 2 \n",
      "    3 3 3 3 3 \n",
      "  4 4 4 4 4 4 4 \n",
      "5 5 5 5 5 5 5 5 5 \n"
     ]
    }
   ],
   "source": [
    "def pat_19():\n",
    "    n = int(input('Enter Number of lines: '))\n",
    "    i = 1\n",
    "    k = 1\n",
    "    space = n-1\n",
    "    while i <= n:\n",
    "        print(2* space*' '+(str(i)+' ')*k)\n",
    "        i += 1\n",
    "        k += 2\n",
    "        space -= 1\n",
    "\n",
    "pat_19()"
   ]
  },
  {
   "cell_type": "markdown",
   "id": "c0654072",
   "metadata": {},
   "source": [
    "  "
   ]
  },
  {
   "cell_type": "raw",
   "id": "3ffc2b91",
   "metadata": {},
   "source": [
    "20. 7 7 7 7 7 7 7 \n",
    "      5 5 5 5 5 \n",
    "        3 3 3 \n",
    "          1 "
   ]
  },
  {
   "cell_type": "code",
   "execution_count": 26,
   "id": "029a2205",
   "metadata": {},
   "outputs": [
    {
     "name": "stdout",
     "output_type": "stream",
     "text": [
      "Enter Number of lines: 4\n",
      "7 7 7 7 7 7 7 \n",
      "  5 5 5 5 5 \n",
      "    3 3 3 \n",
      "      1 \n"
     ]
    }
   ],
   "source": [
    "def pat_20():\n",
    "    n = int(input('Enter Number of lines: '))\n",
    "    i = 1\n",
    "    k = 2*n - 1\n",
    "    space = 0\n",
    "    while i <= n:\n",
    "        print(2* space*' '+(str(k)+' ')*k)\n",
    "        i += 1\n",
    "        k -= 2\n",
    "        space += 1\n",
    "\n",
    "pat_20()"
   ]
  },
  {
   "cell_type": "markdown",
   "id": "e6fa10f6",
   "metadata": {},
   "source": [
    "  "
   ]
  },
  {
   "cell_type": "raw",
   "id": "1de198f0",
   "metadata": {},
   "source": [
    "21. G G G G G G G \n",
    "      E E E E E \n",
    "        C C C \n",
    "          A "
   ]
  },
  {
   "cell_type": "code",
   "execution_count": 39,
   "id": "103675ca",
   "metadata": {},
   "outputs": [
    {
     "name": "stdout",
     "output_type": "stream",
     "text": [
      "Enter Number of lines: 4\n",
      "G G G G G G G \n",
      "  E E E E E \n",
      "    C C C \n",
      "      A \n"
     ]
    }
   ],
   "source": [
    "def pat_21():\n",
    "    n = int(input('Enter Number of lines: '))\n",
    "    i = 2*n -1\n",
    "    a = ord('A')+(i-1)\n",
    "    space = 0\n",
    "    while i > 0:\n",
    "        print(2* space*' '+(chr(a)+' ')*i)\n",
    "        i -= 2\n",
    "        space += 1\n",
    "        a -= 2\n",
    "\n",
    "pat_21()"
   ]
  },
  {
   "cell_type": "markdown",
   "id": "7c655845",
   "metadata": {},
   "source": [
    "  "
   ]
  },
  {
   "cell_type": "raw",
   "id": "14daf793",
   "metadata": {},
   "source": [
    "22. * \n",
    "    * * \n",
    "    * * * \n",
    "    * * * * \n",
    "    * * * * * \n",
    "    * * * * \n",
    "    * * * \n",
    "    * * \n",
    "    * "
   ]
  },
  {
   "cell_type": "code",
   "execution_count": 40,
   "id": "185ef8d5",
   "metadata": {},
   "outputs": [
    {
     "name": "stdout",
     "output_type": "stream",
     "text": [
      "Enter Number of lines: 5\n",
      "Enter character: *\n",
      "* \n",
      "* * \n",
      "* * * \n",
      "* * * * \n",
      "* * * * * \n",
      "* * * * \n",
      "* * * \n",
      "* * \n",
      "* \n"
     ]
    }
   ],
   "source": [
    "def pat_22():\n",
    "    n = int(input('Enter Number of lines: '))\n",
    "    char = input('Enter character: ')    \n",
    "    i = 1\n",
    "    while i < n:\n",
    "        print((char+' ')*i)\n",
    "        i += 1\n",
    "    while i > 0:\n",
    "        print((char+' ')*i)\n",
    "        i -= 1\n",
    "        \n",
    "\n",
    "pat_22()"
   ]
  },
  {
   "cell_type": "code",
   "execution_count": null,
   "id": "28406f94",
   "metadata": {},
   "outputs": [],
   "source": []
  },
  {
   "cell_type": "markdown",
   "id": "b168f5aa",
   "metadata": {},
   "source": [
    "  "
   ]
  },
  {
   "cell_type": "raw",
   "id": "394044d5",
   "metadata": {},
   "source": [
    "23.      A \n",
    "        A B \n",
    "       A B C \n",
    "      A B C D \n",
    "     A B C D E \n",
    "      A B C D \n",
    "       A B C \n",
    "        A B \n",
    "         A "
   ]
  },
  {
   "cell_type": "code",
   "execution_count": 58,
   "id": "b87a5e02",
   "metadata": {},
   "outputs": [
    {
     "name": "stdout",
     "output_type": "stream",
     "text": [
      "Enter Number of lines: 5\n",
      "     A \n",
      "    A B \n",
      "   A B C \n",
      "  A B C D \n",
      " A B C D E \n",
      "  A B C D \n",
      "   A B C \n",
      "    A B \n",
      "     A \n"
     ]
    }
   ],
   "source": [
    "def pat_23():\n",
    "    n = int(input('Enter Number of lines: '))  \n",
    "    i = 1 \n",
    "    space = n-1\n",
    "    \n",
    "    while i < n:\n",
    "        print(space*' ', end=' ')\n",
    "        j = 1\n",
    "        a = ord('A')\n",
    "        while j <= i:\n",
    "            print(chr(a), end=' ')\n",
    "            j += 1\n",
    "            a += 1\n",
    "        i += 1\n",
    "        space -= 1\n",
    "        print()\n",
    "    \n",
    "    while i > 0:\n",
    "        print(space*' ', end=' ')\n",
    "        j = 1\n",
    "        a = ord('A')\n",
    "        while j <= i:\n",
    "            print(chr(a), end=' ')\n",
    "            j += 1\n",
    "            a += 1\n",
    "        i -= 1\n",
    "        space += 1\n",
    "        print()\n",
    "\n",
    "pat_23()"
   ]
  },
  {
   "cell_type": "markdown",
   "id": "ea69e002",
   "metadata": {},
   "source": [
    " "
   ]
  },
  {
   "cell_type": "raw",
   "id": "e040d8ac",
   "metadata": {},
   "source": [
    "24. *         *\n",
    "     *       *\n",
    "      *     *\n",
    "       *   *\n",
    "        * *\n",
    "         *"
   ]
  },
  {
   "cell_type": "code",
   "execution_count": 11,
   "id": "3c7d171b",
   "metadata": {},
   "outputs": [
    {
     "name": "stdout",
     "output_type": "stream",
     "text": [
      "Enter Number of lines: 6\n",
      "Enter character: *\n",
      "*         *\n",
      " *       *\n",
      "  *     *\n",
      "   *   *\n",
      "    * *\n",
      "     *"
     ]
    }
   ],
   "source": [
    "def pat_24():\n",
    "    n = int(input('Enter Number of lines: '))\n",
    "    char = input('Enter character: ')\n",
    "    i = n\n",
    "    void_space = (n-1)*2 - 1\n",
    "    space = 0\n",
    "    while i > 0:\n",
    "        print(space*' '+ char,end='')\n",
    "        if i > 1:\n",
    "            print(void_space*' ' + char)     \n",
    "        space += 1\n",
    "        void_space -= 2\n",
    "        i -= 1\n",
    "        \n",
    "pat_24()            "
   ]
  },
  {
   "cell_type": "markdown",
   "id": "e845d20b",
   "metadata": {},
   "source": [
    "   "
   ]
  }
 ],
 "metadata": {
  "kernelspec": {
   "display_name": "Python 3 (ipykernel)",
   "language": "python",
   "name": "python3"
  },
  "language_info": {
   "codemirror_mode": {
    "name": "ipython",
    "version": 3
   },
   "file_extension": ".py",
   "mimetype": "text/x-python",
   "name": "python",
   "nbconvert_exporter": "python",
   "pygments_lexer": "ipython3",
   "version": "3.11.7"
  }
 },
 "nbformat": 4,
 "nbformat_minor": 5
}
